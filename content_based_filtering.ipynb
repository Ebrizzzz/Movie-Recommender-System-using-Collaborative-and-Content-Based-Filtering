{
 "cells": [
  {
   "cell_type": "code",
   "execution_count": 1,
   "metadata": {},
   "outputs": [],
   "source": [
    "from pyspark.sql import SparkSession\n",
    "from pyspark.sql import functions as F\n",
    "from pyspark.sql.types import *\n",
    "from pyspark.ml.feature import CountVectorizer, StringIndexer, OneHotEncoder, VectorAssembler\n",
    "from pyspark.ml.linalg import Vectors, SparseVector\n",
    "from pyspark.ml import Pipeline\n",
    "import numpy as np\n",
    "from scipy.sparse import csr_matrix\n",
    "from sklearn.metrics.pairwise import cosine_similarity"
   ]
  },
  {
   "cell_type": "code",
   "execution_count": null,
   "metadata": {},
   "outputs": [],
   "source": [
    "# Initialize Spark Session\n",
    "spark = SparkSession.builder \\\n",
    "    .appName(\"ContentBasedMovieRecommender\") \\\n",
    "    .master(\"local[*]\") \\\n",
    "    .config(\"spark.driver.memory\", \"4g\") \\\n",
    "    .getOrCreate()"
   ]
  },
  {
   "cell_type": "code",
   "execution_count": null,
   "metadata": {},
   "outputs": [],
   "source": [
    "# Load data\n",
    "movies_df = spark.read.csv(\"movies.csv\", header=True, inferSchema=True)\n",
    "tags_df = spark.read.csv(\"tags.csv\", header=True, inferSchema=True)"
   ]
  },
  {
   "cell_type": "code",
   "execution_count": 4,
   "metadata": {},
   "outputs": [
    {
     "name": "stdout",
     "output_type": "stream",
     "text": [
      "+-------+--------------------+--------------------+\n",
      "|movieId|               title|              genres|\n",
      "+-------+--------------------+--------------------+\n",
      "|      1|    Toy Story (1995)|Adventure|Animati...|\n",
      "|      2|      Jumanji (1995)|Adventure|Childre...|\n",
      "|      3|Grumpier Old Men ...|      Comedy|Romance|\n",
      "|      4|Waiting to Exhale...|Comedy|Drama|Romance|\n",
      "|      5|Father of the Bri...|              Comedy|\n",
      "|      6|         Heat (1995)|Action|Crime|Thri...|\n",
      "|      7|      Sabrina (1995)|      Comedy|Romance|\n",
      "|      8| Tom and Huck (1995)|  Adventure|Children|\n",
      "|      9| Sudden Death (1995)|              Action|\n",
      "|     10|    GoldenEye (1995)|Action|Adventure|...|\n",
      "|     11|American Presiden...|Comedy|Drama|Romance|\n",
      "|     12|Dracula: Dead and...|       Comedy|Horror|\n",
      "|     13|        Balto (1995)|Adventure|Animati...|\n",
      "|     14|        Nixon (1995)|               Drama|\n",
      "|     15|Cutthroat Island ...|Action|Adventure|...|\n",
      "|     16|       Casino (1995)|         Crime|Drama|\n",
      "|     17|Sense and Sensibi...|       Drama|Romance|\n",
      "|     18|   Four Rooms (1995)|              Comedy|\n",
      "|     19|Ace Ventura: When...|              Comedy|\n",
      "|     20|  Money Train (1995)|Action|Comedy|Cri...|\n",
      "+-------+--------------------+--------------------+\n",
      "only showing top 20 rows\n",
      "\n"
     ]
    }
   ],
   "source": [
    "movies_df.show()"
   ]
  },
  {
   "cell_type": "code",
   "execution_count": 5,
   "metadata": {},
   "outputs": [],
   "source": [
    "# Clean and transform the movies data\n",
    "\n",
    "# Extract year from title\n",
    "extract_year = F.regexp_extract(F.col(\"title\"), r\"\\((\\d{4})\\)$\", 1).cast(\"integer\")\n",
    "\n",
    "movies_df = movies_df.withColumn(\"year\", extract_year)\n",
    "\n"
   ]
  },
  {
   "cell_type": "code",
   "execution_count": 6,
   "metadata": {},
   "outputs": [
    {
     "name": "stdout",
     "output_type": "stream",
     "text": [
      "+-------+--------------------+--------------------+----+\n",
      "|movieId|               title|              genres|year|\n",
      "+-------+--------------------+--------------------+----+\n",
      "|      1|    Toy Story (1995)|Adventure|Animati...|1995|\n",
      "|      2|      Jumanji (1995)|Adventure|Childre...|1995|\n",
      "|      3|Grumpier Old Men ...|      Comedy|Romance|1995|\n",
      "|      4|Waiting to Exhale...|Comedy|Drama|Romance|1995|\n",
      "|      5|Father of the Bri...|              Comedy|1995|\n",
      "|      6|         Heat (1995)|Action|Crime|Thri...|1995|\n",
      "|      7|      Sabrina (1995)|      Comedy|Romance|1995|\n",
      "|      8| Tom and Huck (1995)|  Adventure|Children|1995|\n",
      "|      9| Sudden Death (1995)|              Action|1995|\n",
      "|     10|    GoldenEye (1995)|Action|Adventure|...|1995|\n",
      "|     11|American Presiden...|Comedy|Drama|Romance|1995|\n",
      "|     12|Dracula: Dead and...|       Comedy|Horror|1995|\n",
      "|     13|        Balto (1995)|Adventure|Animati...|1995|\n",
      "|     14|        Nixon (1995)|               Drama|1995|\n",
      "|     15|Cutthroat Island ...|Action|Adventure|...|1995|\n",
      "|     16|       Casino (1995)|         Crime|Drama|1995|\n",
      "|     17|Sense and Sensibi...|       Drama|Romance|1995|\n",
      "|     18|   Four Rooms (1995)|              Comedy|1995|\n",
      "|     19|Ace Ventura: When...|              Comedy|1995|\n",
      "|     20|  Money Train (1995)|Action|Comedy|Cri...|1995|\n",
      "+-------+--------------------+--------------------+----+\n",
      "only showing top 20 rows\n",
      "\n"
     ]
    }
   ],
   "source": [
    "movies_df.show()"
   ]
  },
  {
   "cell_type": "code",
   "execution_count": 7,
   "metadata": {},
   "outputs": [
    {
     "name": "stdout",
     "output_type": "stream",
     "text": [
      "+------------------+-----+\n",
      "|genre             |count|\n",
      "+------------------+-----+\n",
      "|Drama             |4361 |\n",
      "|Comedy            |3756 |\n",
      "|Thriller          |1894 |\n",
      "|Action            |1828 |\n",
      "|Romance           |1596 |\n",
      "|Adventure         |1263 |\n",
      "|Crime             |1199 |\n",
      "|Sci-Fi            |980  |\n",
      "|Horror            |978  |\n",
      "|Fantasy           |779  |\n",
      "|Children          |664  |\n",
      "|Animation         |611  |\n",
      "|Mystery           |573  |\n",
      "|Documentary       |440  |\n",
      "|War               |382  |\n",
      "|Musical           |334  |\n",
      "|Western           |167  |\n",
      "|IMAX              |158  |\n",
      "|Film-Noir         |87   |\n",
      "|(no genres listed)|34   |\n",
      "+------------------+-----+\n",
      "\n"
     ]
    }
   ],
   "source": [
    "# Count unique genres\n",
    "# First, explode the genres (split by |) to get individual genres\n",
    "genre_list = movies_df.select(\"movieId\", F.explode(F.split(F.col(\"genres\"), \"\\\\|\")).alias(\"genre\"))\n",
    "\n",
    "# Count occurrences of each genre\n",
    "genre_list = genre_list.groupBy(\"genre\").count().orderBy(F.desc(\"count\"))\n",
    "\n",
    "# Show the results\n",
    "genre_list.show(30, truncate=False)\n"
   ]
  },
  {
   "cell_type": "code",
   "execution_count": 8,
   "metadata": {},
   "outputs": [],
   "source": [
    "# Filter out movies with no genres\n",
    "movies_df = movies_df.filter(F.col(\"genres\") != \"(no genres listed)\")"
   ]
  },
  {
   "cell_type": "code",
   "execution_count": 26,
   "metadata": {},
   "outputs": [
    {
     "name": "stdout",
     "output_type": "stream",
     "text": [
      "Number of movies: 9708\n",
      "+-------+----------------------------------+----+-------------------------------------------------+\n",
      "|movieId|title                             |year|genres_array                                     |\n",
      "+-------+----------------------------------+----+-------------------------------------------------+\n",
      "|1      |Toy Story (1995)                  |1995|[Adventure, Animation, Children, Comedy, Fantasy]|\n",
      "|2      |Jumanji (1995)                    |1995|[Adventure, Children, Fantasy]                   |\n",
      "|3      |Grumpier Old Men (1995)           |1995|[Comedy, Romance]                                |\n",
      "|4      |Waiting to Exhale (1995)          |1995|[Comedy, Drama, Romance]                         |\n",
      "|5      |Father of the Bride Part II (1995)|1995|[Comedy]                                         |\n",
      "+-------+----------------------------------+----+-------------------------------------------------+\n",
      "only showing top 5 rows\n",
      "\n"
     ]
    }
   ],
   "source": [
    "# Convert genres to array\n",
    "movies_df = movies_df.withColumn(\"genres_array\", F.split(F.col(\"genres\"), \"\\\\|\"))\n",
    "\n",
    "# Show some stats and sample data\n",
    "print(f\"Number of movies: {movies_df.count()}\")\n",
    "movies_df.select(\"movieId\", \"title\", \"year\", \"genres_array\").show(5, truncate=False)"
   ]
  },
  {
   "cell_type": "code",
   "execution_count": 10,
   "metadata": {},
   "outputs": [],
   "source": [
    "movies_df = movies_df.withColumn(\"decade\", \n",
    "                                 (F.floor(F.col(\"year\") / 10) * 10).cast(\"integer\"))"
   ]
  },
  {
   "cell_type": "code",
   "execution_count": 27,
   "metadata": {},
   "outputs": [
    {
     "name": "stdout",
     "output_type": "stream",
     "text": [
      "+-------+--------------------+--------------------+----+--------------------+------+\n",
      "|movieId|               title|              genres|year|        genres_array|decade|\n",
      "+-------+--------------------+--------------------+----+--------------------+------+\n",
      "|      1|    Toy Story (1995)|Adventure|Animati...|1995|[Adventure, Anima...|  1990|\n",
      "|      2|      Jumanji (1995)|Adventure|Childre...|1995|[Adventure, Child...|  1990|\n",
      "|      3|Grumpier Old Men ...|      Comedy|Romance|1995|   [Comedy, Romance]|  1990|\n",
      "|      4|Waiting to Exhale...|Comedy|Drama|Romance|1995|[Comedy, Drama, R...|  1990|\n",
      "|      5|Father of the Bri...|              Comedy|1995|            [Comedy]|  1990|\n",
      "|      6|         Heat (1995)|Action|Crime|Thri...|1995|[Action, Crime, T...|  1990|\n",
      "|      7|      Sabrina (1995)|      Comedy|Romance|1995|   [Comedy, Romance]|  1990|\n",
      "|      8| Tom and Huck (1995)|  Adventure|Children|1995|[Adventure, Child...|  1990|\n",
      "|      9| Sudden Death (1995)|              Action|1995|            [Action]|  1990|\n",
      "|     10|    GoldenEye (1995)|Action|Adventure|...|1995|[Action, Adventur...|  1990|\n",
      "|     11|American Presiden...|Comedy|Drama|Romance|1995|[Comedy, Drama, R...|  1990|\n",
      "|     12|Dracula: Dead and...|       Comedy|Horror|1995|    [Comedy, Horror]|  1990|\n",
      "|     13|        Balto (1995)|Adventure|Animati...|1995|[Adventure, Anima...|  1990|\n",
      "|     14|        Nixon (1995)|               Drama|1995|             [Drama]|  1990|\n",
      "|     15|Cutthroat Island ...|Action|Adventure|...|1995|[Action, Adventur...|  1990|\n",
      "|     16|       Casino (1995)|         Crime|Drama|1995|      [Crime, Drama]|  1990|\n",
      "|     17|Sense and Sensibi...|       Drama|Romance|1995|    [Drama, Romance]|  1990|\n",
      "|     18|   Four Rooms (1995)|              Comedy|1995|            [Comedy]|  1990|\n",
      "|     19|Ace Ventura: When...|              Comedy|1995|            [Comedy]|  1990|\n",
      "|     20|  Money Train (1995)|Action|Comedy|Cri...|1995|[Action, Comedy, ...|  1990|\n",
      "+-------+--------------------+--------------------+----+--------------------+------+\n",
      "only showing top 20 rows\n",
      "\n"
     ]
    }
   ],
   "source": [
    "movies_df.show()"
   ]
  },
  {
   "cell_type": "code",
   "execution_count": null,
   "metadata": {},
   "outputs": [],
   "source": [
    "# Process tags data\n",
    "\n",
    "# Clean tags: lowercase, remove punctuation, etc...\n",
    "tags_df = tags_df.withColumn(\"clean_tag\", \n",
    "                            F.lower(F.regexp_replace(F.col(\"tag\"), r\"[^\\w\\s]\", \"\")))\n",
    "\n",
    "# Aggregate tags per movie and filter out less common tags\n",
    "movie_tags = tags_df.groupBy(\"movieId\") \\\n",
    "                   .agg(F.collect_list(\"clean_tag\").alias(\"tags\"))\n",
    "\n"
   ]
  },
  {
   "cell_type": "code",
   "execution_count": null,
   "metadata": {},
   "outputs": [],
   "source": [
    "# Get the most common tags (we can change limit as needed, for now, I put it to 200, increasing it will include more tags)\n",
    "common_tags = tags_df.groupBy(\"clean_tag\") \\\n",
    "                    .count() \\\n",
    "                    .orderBy(F.col(\"count\").desc()) \\\n",
    "                    .limit(200)\n",
    "        "
   ]
  },
  {
   "cell_type": "code",
   "execution_count": 14,
   "metadata": {},
   "outputs": [
    {
     "name": "stdout",
     "output_type": "stream",
     "text": [
      "+------------------+-----+\n",
      "|         clean_tag|count|\n",
      "+------------------+-----+\n",
      "|  in netflix queue|  131|\n",
      "|       atmospheric|   41|\n",
      "|             scifi|   24|\n",
      "|           surreal|   24|\n",
      "|         superhero|   24|\n",
      "|  thoughtprovoking|   24|\n",
      "|             funny|   24|\n",
      "|            disney|   23|\n",
      "|          religion|   22|\n",
      "|            quirky|   22|\n",
      "|        psychology|   21|\n",
      "|          suspense|   21|\n",
      "|       dark comedy|   21|\n",
      "|      twist ending|   20|\n",
      "|visually appealing|   20|\n",
      "|             crime|   19|\n",
      "|          politics|   19|\n",
      "|            comedy|   19|\n",
      "|             music|   17|\n",
      "|       time travel|   16|\n",
      "+------------------+-----+\n",
      "only showing top 20 rows\n",
      "\n"
     ]
    }
   ],
   "source": [
    "common_tags.show()"
   ]
  },
  {
   "cell_type": "code",
   "execution_count": 15,
   "metadata": {},
   "outputs": [],
   "source": [
    "movies_with_tags = movies_df.join(movie_tags, on=\"movieId\", how=\"left\")\n",
    "\n",
    "# Fill null tag lists with empty list\n",
    "movies_with_tags = movies_with_tags.withColumn(\n",
    "    \"tags\", F.when(F.col(\"tags\").isNull(), F.array()).otherwise(F.col(\"tags\"))\n",
    ")"
   ]
  },
  {
   "cell_type": "code",
   "execution_count": 16,
   "metadata": {},
   "outputs": [
    {
     "name": "stdout",
     "output_type": "stream",
     "text": [
      "+-------+--------------------+--------------------+----+--------------------+------+--------------------+\n",
      "|movieId|               title|              genres|year|        genres_array|decade|                tags|\n",
      "+-------+--------------------+--------------------+----+--------------------+------+--------------------+\n",
      "|      1|    Toy Story (1995)|Adventure|Animati...|1995|[Adventure, Anima...|  1990| [pixar, pixar, fun]|\n",
      "|      2|      Jumanji (1995)|Adventure|Childre...|1995|[Adventure, Child...|  1990|[game, fantasy, m...|\n",
      "|      3|Grumpier Old Men ...|      Comedy|Romance|1995|   [Comedy, Romance]|  1990|        [moldy, old]|\n",
      "|      4|Waiting to Exhale...|Comedy|Drama|Romance|1995|[Comedy, Drama, R...|  1990|                  []|\n",
      "|      5|Father of the Bri...|              Comedy|1995|            [Comedy]|  1990| [pregnancy, remake]|\n",
      "|      6|         Heat (1995)|Action|Crime|Thri...|1995|[Action, Crime, T...|  1990|                  []|\n",
      "|      7|      Sabrina (1995)|      Comedy|Romance|1995|   [Comedy, Romance]|  1990|            [remake]|\n",
      "|      8| Tom and Huck (1995)|  Adventure|Children|1995|[Adventure, Child...|  1990|                  []|\n",
      "|      9| Sudden Death (1995)|              Action|1995|            [Action]|  1990|                  []|\n",
      "|     10|    GoldenEye (1995)|Action|Adventure|...|1995|[Action, Adventur...|  1990|                  []|\n",
      "|     11|American Presiden...|Comedy|Drama|Romance|1995|[Comedy, Drama, R...|  1990|[politics, presid...|\n",
      "|     12|Dracula: Dead and...|       Comedy|Horror|1995|    [Comedy, Horror]|  1990|                  []|\n",
      "|     13|        Balto (1995)|Adventure|Animati...|1995|[Adventure, Anima...|  1990|                  []|\n",
      "|     14|        Nixon (1995)|               Drama|1995|             [Drama]|  1990|[politics, presid...|\n",
      "|     15|Cutthroat Island ...|Action|Adventure|...|1995|[Action, Adventur...|  1990|                  []|\n",
      "|     16|       Casino (1995)|         Crime|Drama|1995|      [Crime, Drama]|  1990|             [mafia]|\n",
      "|     17|Sense and Sensibi...|       Drama|Romance|1995|    [Drama, Romance]|  1990|       [jane austen]|\n",
      "|     18|   Four Rooms (1995)|              Comedy|1995|            [Comedy]|  1990|                  []|\n",
      "|     19|Ace Ventura: When...|              Comedy|1995|            [Comedy]|  1990|                  []|\n",
      "|     20|  Money Train (1995)|Action|Comedy|Cri...|1995|[Action, Comedy, ...|  1990|                  []|\n",
      "+-------+--------------------+--------------------+----+--------------------+------+--------------------+\n",
      "only showing top 20 rows\n",
      "\n"
     ]
    }
   ],
   "source": [
    "movies_with_tags.show()"
   ]
  },
  {
   "cell_type": "code",
   "execution_count": null,
   "metadata": {},
   "outputs": [],
   "source": [
    "# One hot encoding for genres and tags and decades\n",
    "\n",
    "# Get genres as a list\n",
    "top_genres = [row[\"genre\"] for row in genre_list.collect()]\n",
    "\n",
    "movies_features = movies_with_tags\n",
    "\n",
    "# Add a column for each genre (1 if present, 0 if not)\n",
    "for genre in top_genres:\n",
    "    movies_features = movies_features.withColumn(\n",
    "        f\"genre_{genre}\",\n",
    "        F.when(F.array_contains(F.col(\"genres_array\"), genre), 1).otherwise(0)\n",
    "    )\n",
    "\n",
    "# Create decade features (one-hot encoded)\n",
    "decades = [1990, 2000, 2010]\n",
    "for decade in decades:\n",
    "    movies_features = movies_features.withColumn(\n",
    "        f\"decade_{decade}\", \n",
    "        F.when((F.col(\"decade\") == decade), 1).otherwise(0)\n",
    "    )\n",
    "\n",
    "# Add columns for the most common tags\n",
    "top_tags = [row[\"clean_tag\"] for row in common_tags.collect()]\n",
    "for tag in top_tags:\n",
    "    movies_features = movies_features.withColumn(\n",
    "        f\"tag_{tag}\",\n",
    "        F.when(F.array_contains(F.col(\"tags\"), tag), 1).otherwise(0)\n",
    "    )"
   ]
  },
  {
   "cell_type": "code",
   "execution_count": 18,
   "metadata": {},
   "outputs": [
    {
     "name": "stdout",
     "output_type": "stream",
     "text": [
      "+-------+--------------------+--------------------+----+--------------------+------+--------------------+-----------+------------+--------------+------------+-------------+---------------+-----------+------------+------------+-------------+--------------+---------------+-------------+-----------------+---------+-------------+-------------+----------+---------------+------------------------+-----------+-----------+-----------+--------------------+---------------+---------+-----------+-------------+--------------------+---------+----------+------------+----------+------------+--------------+---------------+----------------+----------------------+---------+------------+----------+---------+----------+--------+---------------+---------------+------------------+----------+------------+---------+----------------+-------------+---------+----------------+--------------+--------------+-------------+---------------+---------+-------------+---------+-------------+-----------+----------+---------+-------------+-----------------+---------------+--------------+----------+---------------+------------+----------------+----------+-------------+---------+-----------------+----------+-----------+------------------+---------------------+-----------+---------+----------+---------+-------------+-----------------+-----------+----------------+----------------+------------+----------+------------+-----------+-------------+----------+----------+----------------+----------+------------+--------+----------+----------------+-----------------+-------+------------+----------+-----------+-----------------+----------------+---------+------------------+-------------+---------------+---------------------+------------+---------------------+--------------+----------------+----------+---------------+---------+--------------+-----------------+-------------+---------+---------+-------------+---------+----------+--------------+-----------+-----------------+--------------+-----------+----------------------+--------------+-------------+--------------+---------------+---------------------+-----------+-------------+----------+-----------+--------------------+------------+------------+----------+-----------+-------------------+-------------------------+---------+------------+---------+------------+--------------+----------+---------------------+------------+---------+-------------+------------+--------------------+-----------+-------------+-----------+-----------------+-------+-------+----------+---------------+-----------+---------------------------+-------------+-------------+--------------+-------------------+------------+-----------+------------------+-----------+--------+----------+------------+------------+-------------+----------+-----------+-----------+----------+----------------+-----------+-----------------+----------------+-------------------+----------+-----------------+--------------+---------------+------------+-----------+------------------+------------+-----------+-------------------+--------+--------------+----------------+--------------------+----------+------------+----------+------------+----------------+---------------+----------+----------+--------------+----------------+------------+--------------+-----------------+\n",
      "|movieId|               title|              genres|year|        genres_array|decade|                tags|genre_Drama|genre_Comedy|genre_Thriller|genre_Action|genre_Romance|genre_Adventure|genre_Crime|genre_Sci-Fi|genre_Horror|genre_Fantasy|genre_Children|genre_Animation|genre_Mystery|genre_Documentary|genre_War|genre_Musical|genre_Western|genre_IMAX|genre_Film-Noir|genre_(no genres listed)|decade_1990|decade_2000|decade_2010|tag_in netflix queue|tag_atmospheric|tag_scifi|tag_surreal|tag_superhero|tag_thoughtprovoking|tag_funny|tag_disney|tag_religion|tag_quirky|tag_suspense|tag_psychology|tag_dark comedy|tag_twist ending|tag_visually appealing|tag_crime|tag_politics|tag_comedy|tag_music|tag_action|tag_dark|tag_time travel|tag_high school|tag_mental illness|tag_aliens|tag_mindfuck|tag_space|tag_black comedy|tag_dreamlike|tag_mafia|tag_stephen king|tag_disturbing|tag_journalism|tag_holocaust|tag_shakespeare|tag_heist|tag_emotional|tag_anime|tag_christmas|tag_classic|tag_satire|tag_court|tag_animation|tag_psychological|tag_bittersweet|tag_comic book|tag_ghosts|tag_adolescence|tag_adultery|tag_imdb top 250|tag_boxing|tag_australia|tag_india|tag_philosophical|tag_robots|tag_vietnam|tag_cinematography|tag_leonardo dicaprio|tag_england|tag_drugs|tag_remake|tag_tense|tag_sexuality|tag_hallucinatory|tag_mystery|tag_will ferrell|tag_world war ii|tag_military|tag_murder|tag_stylized|tag_revenge|tag_adventure|tag_creepy|tag_racism|tag_heartwarming|tag_sequel|tag_new york|tag_race|tag_family|tag_animal movie|tag_coen brothers|tag_bad|tag_violence|tag_police|tag_divorce|tag_serial killer|tag_martial arts|tag_spoof|tag_movie business|tag_beautiful|tag_intelligent|tag_quentin tarantino|tag_cerebral|tag_social commentary|tag_dark humor|tag_prostitution|tag_gritty|tag_predictable|tag_death|tag_kidnapping|tag_assassination|tag_screwball|tag_magic|tag_bible|tag_cult film|tag_witty|tag_clever|tag_disability|tag_romance|tag_inspirational|tag_television|tag_fantasy|tag_astaire and rogers|tag_philosophy|tag_pregnancy|tag_depressing|tag_men in drag|tag_visually stunning|tag_wedding|tag_terrorism|tag_future|tag_zombies|tag_great soundtrack|tag_dystopia|tag_gambling|tag_gothic|tag_hit men|tag_black and white|tag_nick and nora charles|tag_twins|tag_touching|tag_pixar|tag_business|tag_soundtrack|tag_remade|tag_hepburn and tracy|tag_homeless|tag_jason|tag_brad pitt|tag_marriage|tag_post apocalyptic|tag_samurai|tag_al pacino|tag_dickens|tag_death penalty|tag_sad|tag_fun|tag_horror|tag_ben stiller|tag_stylish|tag_artificial intelligence|tag_civil war|tag_nonlinear|tag_corruption|tag_organized crime|tag_humorous|tag_lawyers|tag_existentialism|tag_amnesia|tag_dogs|tag_africa|tag_baseball|tag_poignant|tag_president|tag_sports|tag_aardman|tag_judaism|tag_biopic|tag_swashbuckler|tag_ireland|tag_ryan reynolds|tag_adam sandler|tag_postapocalyptic|tag_unique|tag_good dialogue|tag_alcoholism|tag_space opera|tag_paranoia|tag_wizards|tag_cross dressing|tag_thriller|tag_sarcasm|tag_based on a book|tag_epic|tag_friendship|tag_generation x|tag_samuel l jackson|tag_priest|tag_survival|tag_parody|tag_assassin|tag_john grisham|tag_crude humor|tag_prison|tag_circus|tag_true story|tag_hugh jackman|tag_feelgood|tag_fatherhood|tag_heartbreaking|\n",
      "+-------+--------------------+--------------------+----+--------------------+------+--------------------+-----------+------------+--------------+------------+-------------+---------------+-----------+------------+------------+-------------+--------------+---------------+-------------+-----------------+---------+-------------+-------------+----------+---------------+------------------------+-----------+-----------+-----------+--------------------+---------------+---------+-----------+-------------+--------------------+---------+----------+------------+----------+------------+--------------+---------------+----------------+----------------------+---------+------------+----------+---------+----------+--------+---------------+---------------+------------------+----------+------------+---------+----------------+-------------+---------+----------------+--------------+--------------+-------------+---------------+---------+-------------+---------+-------------+-----------+----------+---------+-------------+-----------------+---------------+--------------+----------+---------------+------------+----------------+----------+-------------+---------+-----------------+----------+-----------+------------------+---------------------+-----------+---------+----------+---------+-------------+-----------------+-----------+----------------+----------------+------------+----------+------------+-----------+-------------+----------+----------+----------------+----------+------------+--------+----------+----------------+-----------------+-------+------------+----------+-----------+-----------------+----------------+---------+------------------+-------------+---------------+---------------------+------------+---------------------+--------------+----------------+----------+---------------+---------+--------------+-----------------+-------------+---------+---------+-------------+---------+----------+--------------+-----------+-----------------+--------------+-----------+----------------------+--------------+-------------+--------------+---------------+---------------------+-----------+-------------+----------+-----------+--------------------+------------+------------+----------+-----------+-------------------+-------------------------+---------+------------+---------+------------+--------------+----------+---------------------+------------+---------+-------------+------------+--------------------+-----------+-------------+-----------+-----------------+-------+-------+----------+---------------+-----------+---------------------------+-------------+-------------+--------------+-------------------+------------+-----------+------------------+-----------+--------+----------+------------+------------+-------------+----------+-----------+-----------+----------+----------------+-----------+-----------------+----------------+-------------------+----------+-----------------+--------------+---------------+------------+-----------+------------------+------------+-----------+-------------------+--------+--------------+----------------+--------------------+----------+------------+----------+------------+----------------+---------------+----------+----------+--------------+----------------+------------+--------------+-----------------+\n",
      "|      1|    Toy Story (1995)|Adventure|Animati...|1995|[Adventure, Anima...|  1990| [pixar, pixar, fun]|          0|           1|             0|           0|            0|              1|          0|           0|           0|            1|             1|              1|            0|                0|        0|            0|            0|         0|              0|                       0|          1|          0|          0|                   0|              0|        0|          0|            0|                   0|        0|         0|           0|         0|           0|             0|              0|               0|                     0|        0|           0|         0|        0|         0|       0|              0|              0|                 0|         0|           0|        0|               0|            0|        0|               0|             0|             0|            0|              0|        0|            0|        0|            0|          0|         0|        0|            0|                0|              0|             0|         0|              0|           0|               0|         0|            0|        0|                0|         0|          0|                 0|                    0|          0|        0|         0|        0|            0|                0|          0|               0|               0|           0|         0|           0|          0|            0|         0|         0|               0|         0|           0|       0|         0|               0|                0|      0|           0|         0|          0|                0|               0|        0|                 0|            0|              0|                    0|           0|                    0|             0|               0|         0|              0|        0|             0|                0|            0|        0|        0|            0|        0|         0|             0|          0|                0|             0|          0|                     0|             0|            0|             0|              0|                    0|          0|            0|         0|          0|                   0|           0|           0|         0|          0|                  0|                        0|        0|           0|        1|           0|             0|         0|                    0|           0|        0|            0|           0|                   0|          0|            0|          0|                0|      0|      1|         0|              0|          0|                          0|            0|            0|             0|                  0|           0|          0|                 0|          0|       0|         0|           0|           0|            0|         0|          0|          0|         0|               0|          0|                0|               0|                  0|         0|                0|             0|              0|           0|          0|                 0|           0|          0|                  0|       0|             0|               0|                   0|         0|           0|         0|           0|               0|              0|         0|         0|             0|               0|           0|             0|                0|\n",
      "|      2|      Jumanji (1995)|Adventure|Childre...|1995|[Adventure, Child...|  1990|[game, fantasy, m...|          0|           0|             0|           0|            0|              1|          0|           0|           0|            1|             1|              0|            0|                0|        0|            0|            0|         0|              0|                       0|          1|          0|          0|                   0|              0|        0|          0|            0|                   0|        0|         0|           0|         0|           0|             0|              0|               0|                     0|        0|           0|         0|        0|         0|       0|              0|              0|                 0|         0|           0|        0|               0|            0|        0|               0|             0|             0|            0|              0|        0|            0|        0|            0|          0|         0|        0|            0|                0|              0|             0|         0|              0|           0|               0|         0|            0|        0|                0|         0|          0|                 0|                    0|          0|        0|         0|        0|            0|                0|          0|               0|               0|           0|         0|           0|          0|            0|         0|         0|               0|         0|           0|       0|         0|               0|                0|      0|           0|         0|          0|                0|               0|        0|                 0|            0|              0|                    0|           0|                    0|             0|               0|         0|              0|        0|             0|                0|            0|        0|        0|            0|        0|         0|             0|          0|                0|             0|          1|                     0|             0|            0|             0|              0|                    0|          0|            0|         0|          0|                   0|           0|           0|         0|          0|                  0|                        0|        0|           0|        0|           0|             0|         0|                    0|           0|        0|            0|           0|                   0|          0|            0|          0|                0|      0|      0|         0|              0|          0|                          0|            0|            0|             0|                  0|           0|          0|                 0|          0|       0|         0|           0|           0|            0|         0|          0|          0|         0|               0|          0|                0|               0|                  0|         0|                0|             0|              0|           0|          0|                 0|           0|          0|                  0|       0|             0|               0|                   0|         0|           0|         0|           0|               0|              0|         0|         0|             0|               0|           0|             0|                0|\n",
      "|      3|Grumpier Old Men ...|      Comedy|Romance|1995|   [Comedy, Romance]|  1990|        [moldy, old]|          0|           1|             0|           0|            1|              0|          0|           0|           0|            0|             0|              0|            0|                0|        0|            0|            0|         0|              0|                       0|          1|          0|          0|                   0|              0|        0|          0|            0|                   0|        0|         0|           0|         0|           0|             0|              0|               0|                     0|        0|           0|         0|        0|         0|       0|              0|              0|                 0|         0|           0|        0|               0|            0|        0|               0|             0|             0|            0|              0|        0|            0|        0|            0|          0|         0|        0|            0|                0|              0|             0|         0|              0|           0|               0|         0|            0|        0|                0|         0|          0|                 0|                    0|          0|        0|         0|        0|            0|                0|          0|               0|               0|           0|         0|           0|          0|            0|         0|         0|               0|         0|           0|       0|         0|               0|                0|      0|           0|         0|          0|                0|               0|        0|                 0|            0|              0|                    0|           0|                    0|             0|               0|         0|              0|        0|             0|                0|            0|        0|        0|            0|        0|         0|             0|          0|                0|             0|          0|                     0|             0|            0|             0|              0|                    0|          0|            0|         0|          0|                   0|           0|           0|         0|          0|                  0|                        0|        0|           0|        0|           0|             0|         0|                    0|           0|        0|            0|           0|                   0|          0|            0|          0|                0|      0|      0|         0|              0|          0|                          0|            0|            0|             0|                  0|           0|          0|                 0|          0|       0|         0|           0|           0|            0|         0|          0|          0|         0|               0|          0|                0|               0|                  0|         0|                0|             0|              0|           0|          0|                 0|           0|          0|                  0|       0|             0|               0|                   0|         0|           0|         0|           0|               0|              0|         0|         0|             0|               0|           0|             0|                0|\n",
      "|      4|Waiting to Exhale...|Comedy|Drama|Romance|1995|[Comedy, Drama, R...|  1990|                  []|          1|           1|             0|           0|            1|              0|          0|           0|           0|            0|             0|              0|            0|                0|        0|            0|            0|         0|              0|                       0|          1|          0|          0|                   0|              0|        0|          0|            0|                   0|        0|         0|           0|         0|           0|             0|              0|               0|                     0|        0|           0|         0|        0|         0|       0|              0|              0|                 0|         0|           0|        0|               0|            0|        0|               0|             0|             0|            0|              0|        0|            0|        0|            0|          0|         0|        0|            0|                0|              0|             0|         0|              0|           0|               0|         0|            0|        0|                0|         0|          0|                 0|                    0|          0|        0|         0|        0|            0|                0|          0|               0|               0|           0|         0|           0|          0|            0|         0|         0|               0|         0|           0|       0|         0|               0|                0|      0|           0|         0|          0|                0|               0|        0|                 0|            0|              0|                    0|           0|                    0|             0|               0|         0|              0|        0|             0|                0|            0|        0|        0|            0|        0|         0|             0|          0|                0|             0|          0|                     0|             0|            0|             0|              0|                    0|          0|            0|         0|          0|                   0|           0|           0|         0|          0|                  0|                        0|        0|           0|        0|           0|             0|         0|                    0|           0|        0|            0|           0|                   0|          0|            0|          0|                0|      0|      0|         0|              0|          0|                          0|            0|            0|             0|                  0|           0|          0|                 0|          0|       0|         0|           0|           0|            0|         0|          0|          0|         0|               0|          0|                0|               0|                  0|         0|                0|             0|              0|           0|          0|                 0|           0|          0|                  0|       0|             0|               0|                   0|         0|           0|         0|           0|               0|              0|         0|         0|             0|               0|           0|             0|                0|\n",
      "|      5|Father of the Bri...|              Comedy|1995|            [Comedy]|  1990| [pregnancy, remake]|          0|           1|             0|           0|            0|              0|          0|           0|           0|            0|             0|              0|            0|                0|        0|            0|            0|         0|              0|                       0|          1|          0|          0|                   0|              0|        0|          0|            0|                   0|        0|         0|           0|         0|           0|             0|              0|               0|                     0|        0|           0|         0|        0|         0|       0|              0|              0|                 0|         0|           0|        0|               0|            0|        0|               0|             0|             0|            0|              0|        0|            0|        0|            0|          0|         0|        0|            0|                0|              0|             0|         0|              0|           0|               0|         0|            0|        0|                0|         0|          0|                 0|                    0|          0|        0|         1|        0|            0|                0|          0|               0|               0|           0|         0|           0|          0|            0|         0|         0|               0|         0|           0|       0|         0|               0|                0|      0|           0|         0|          0|                0|               0|        0|                 0|            0|              0|                    0|           0|                    0|             0|               0|         0|              0|        0|             0|                0|            0|        0|        0|            0|        0|         0|             0|          0|                0|             0|          0|                     0|             0|            1|             0|              0|                    0|          0|            0|         0|          0|                   0|           0|           0|         0|          0|                  0|                        0|        0|           0|        0|           0|             0|         0|                    0|           0|        0|            0|           0|                   0|          0|            0|          0|                0|      0|      0|         0|              0|          0|                          0|            0|            0|             0|                  0|           0|          0|                 0|          0|       0|         0|           0|           0|            0|         0|          0|          0|         0|               0|          0|                0|               0|                  0|         0|                0|             0|              0|           0|          0|                 0|           0|          0|                  0|       0|             0|               0|                   0|         0|           0|         0|           0|               0|              0|         0|         0|             0|               0|           0|             0|                0|\n",
      "|      6|         Heat (1995)|Action|Crime|Thri...|1995|[Action, Crime, T...|  1990|                  []|          0|           0|             1|           1|            0|              0|          1|           0|           0|            0|             0|              0|            0|                0|        0|            0|            0|         0|              0|                       0|          1|          0|          0|                   0|              0|        0|          0|            0|                   0|        0|         0|           0|         0|           0|             0|              0|               0|                     0|        0|           0|         0|        0|         0|       0|              0|              0|                 0|         0|           0|        0|               0|            0|        0|               0|             0|             0|            0|              0|        0|            0|        0|            0|          0|         0|        0|            0|                0|              0|             0|         0|              0|           0|               0|         0|            0|        0|                0|         0|          0|                 0|                    0|          0|        0|         0|        0|            0|                0|          0|               0|               0|           0|         0|           0|          0|            0|         0|         0|               0|         0|           0|       0|         0|               0|                0|      0|           0|         0|          0|                0|               0|        0|                 0|            0|              0|                    0|           0|                    0|             0|               0|         0|              0|        0|             0|                0|            0|        0|        0|            0|        0|         0|             0|          0|                0|             0|          0|                     0|             0|            0|             0|              0|                    0|          0|            0|         0|          0|                   0|           0|           0|         0|          0|                  0|                        0|        0|           0|        0|           0|             0|         0|                    0|           0|        0|            0|           0|                   0|          0|            0|          0|                0|      0|      0|         0|              0|          0|                          0|            0|            0|             0|                  0|           0|          0|                 0|          0|       0|         0|           0|           0|            0|         0|          0|          0|         0|               0|          0|                0|               0|                  0|         0|                0|             0|              0|           0|          0|                 0|           0|          0|                  0|       0|             0|               0|                   0|         0|           0|         0|           0|               0|              0|         0|         0|             0|               0|           0|             0|                0|\n",
      "|      7|      Sabrina (1995)|      Comedy|Romance|1995|   [Comedy, Romance]|  1990|            [remake]|          0|           1|             0|           0|            1|              0|          0|           0|           0|            0|             0|              0|            0|                0|        0|            0|            0|         0|              0|                       0|          1|          0|          0|                   0|              0|        0|          0|            0|                   0|        0|         0|           0|         0|           0|             0|              0|               0|                     0|        0|           0|         0|        0|         0|       0|              0|              0|                 0|         0|           0|        0|               0|            0|        0|               0|             0|             0|            0|              0|        0|            0|        0|            0|          0|         0|        0|            0|                0|              0|             0|         0|              0|           0|               0|         0|            0|        0|                0|         0|          0|                 0|                    0|          0|        0|         1|        0|            0|                0|          0|               0|               0|           0|         0|           0|          0|            0|         0|         0|               0|         0|           0|       0|         0|               0|                0|      0|           0|         0|          0|                0|               0|        0|                 0|            0|              0|                    0|           0|                    0|             0|               0|         0|              0|        0|             0|                0|            0|        0|        0|            0|        0|         0|             0|          0|                0|             0|          0|                     0|             0|            0|             0|              0|                    0|          0|            0|         0|          0|                   0|           0|           0|         0|          0|                  0|                        0|        0|           0|        0|           0|             0|         0|                    0|           0|        0|            0|           0|                   0|          0|            0|          0|                0|      0|      0|         0|              0|          0|                          0|            0|            0|             0|                  0|           0|          0|                 0|          0|       0|         0|           0|           0|            0|         0|          0|          0|         0|               0|          0|                0|               0|                  0|         0|                0|             0|              0|           0|          0|                 0|           0|          0|                  0|       0|             0|               0|                   0|         0|           0|         0|           0|               0|              0|         0|         0|             0|               0|           0|             0|                0|\n",
      "|      8| Tom and Huck (1995)|  Adventure|Children|1995|[Adventure, Child...|  1990|                  []|          0|           0|             0|           0|            0|              1|          0|           0|           0|            0|             1|              0|            0|                0|        0|            0|            0|         0|              0|                       0|          1|          0|          0|                   0|              0|        0|          0|            0|                   0|        0|         0|           0|         0|           0|             0|              0|               0|                     0|        0|           0|         0|        0|         0|       0|              0|              0|                 0|         0|           0|        0|               0|            0|        0|               0|             0|             0|            0|              0|        0|            0|        0|            0|          0|         0|        0|            0|                0|              0|             0|         0|              0|           0|               0|         0|            0|        0|                0|         0|          0|                 0|                    0|          0|        0|         0|        0|            0|                0|          0|               0|               0|           0|         0|           0|          0|            0|         0|         0|               0|         0|           0|       0|         0|               0|                0|      0|           0|         0|          0|                0|               0|        0|                 0|            0|              0|                    0|           0|                    0|             0|               0|         0|              0|        0|             0|                0|            0|        0|        0|            0|        0|         0|             0|          0|                0|             0|          0|                     0|             0|            0|             0|              0|                    0|          0|            0|         0|          0|                   0|           0|           0|         0|          0|                  0|                        0|        0|           0|        0|           0|             0|         0|                    0|           0|        0|            0|           0|                   0|          0|            0|          0|                0|      0|      0|         0|              0|          0|                          0|            0|            0|             0|                  0|           0|          0|                 0|          0|       0|         0|           0|           0|            0|         0|          0|          0|         0|               0|          0|                0|               0|                  0|         0|                0|             0|              0|           0|          0|                 0|           0|          0|                  0|       0|             0|               0|                   0|         0|           0|         0|           0|               0|              0|         0|         0|             0|               0|           0|             0|                0|\n",
      "|      9| Sudden Death (1995)|              Action|1995|            [Action]|  1990|                  []|          0|           0|             0|           1|            0|              0|          0|           0|           0|            0|             0|              0|            0|                0|        0|            0|            0|         0|              0|                       0|          1|          0|          0|                   0|              0|        0|          0|            0|                   0|        0|         0|           0|         0|           0|             0|              0|               0|                     0|        0|           0|         0|        0|         0|       0|              0|              0|                 0|         0|           0|        0|               0|            0|        0|               0|             0|             0|            0|              0|        0|            0|        0|            0|          0|         0|        0|            0|                0|              0|             0|         0|              0|           0|               0|         0|            0|        0|                0|         0|          0|                 0|                    0|          0|        0|         0|        0|            0|                0|          0|               0|               0|           0|         0|           0|          0|            0|         0|         0|               0|         0|           0|       0|         0|               0|                0|      0|           0|         0|          0|                0|               0|        0|                 0|            0|              0|                    0|           0|                    0|             0|               0|         0|              0|        0|             0|                0|            0|        0|        0|            0|        0|         0|             0|          0|                0|             0|          0|                     0|             0|            0|             0|              0|                    0|          0|            0|         0|          0|                   0|           0|           0|         0|          0|                  0|                        0|        0|           0|        0|           0|             0|         0|                    0|           0|        0|            0|           0|                   0|          0|            0|          0|                0|      0|      0|         0|              0|          0|                          0|            0|            0|             0|                  0|           0|          0|                 0|          0|       0|         0|           0|           0|            0|         0|          0|          0|         0|               0|          0|                0|               0|                  0|         0|                0|             0|              0|           0|          0|                 0|           0|          0|                  0|       0|             0|               0|                   0|         0|           0|         0|           0|               0|              0|         0|         0|             0|               0|           0|             0|                0|\n",
      "|     10|    GoldenEye (1995)|Action|Adventure|...|1995|[Action, Adventur...|  1990|                  []|          0|           0|             1|           1|            0|              1|          0|           0|           0|            0|             0|              0|            0|                0|        0|            0|            0|         0|              0|                       0|          1|          0|          0|                   0|              0|        0|          0|            0|                   0|        0|         0|           0|         0|           0|             0|              0|               0|                     0|        0|           0|         0|        0|         0|       0|              0|              0|                 0|         0|           0|        0|               0|            0|        0|               0|             0|             0|            0|              0|        0|            0|        0|            0|          0|         0|        0|            0|                0|              0|             0|         0|              0|           0|               0|         0|            0|        0|                0|         0|          0|                 0|                    0|          0|        0|         0|        0|            0|                0|          0|               0|               0|           0|         0|           0|          0|            0|         0|         0|               0|         0|           0|       0|         0|               0|                0|      0|           0|         0|          0|                0|               0|        0|                 0|            0|              0|                    0|           0|                    0|             0|               0|         0|              0|        0|             0|                0|            0|        0|        0|            0|        0|         0|             0|          0|                0|             0|          0|                     0|             0|            0|             0|              0|                    0|          0|            0|         0|          0|                   0|           0|           0|         0|          0|                  0|                        0|        0|           0|        0|           0|             0|         0|                    0|           0|        0|            0|           0|                   0|          0|            0|          0|                0|      0|      0|         0|              0|          0|                          0|            0|            0|             0|                  0|           0|          0|                 0|          0|       0|         0|           0|           0|            0|         0|          0|          0|         0|               0|          0|                0|               0|                  0|         0|                0|             0|              0|           0|          0|                 0|           0|          0|                  0|       0|             0|               0|                   0|         0|           0|         0|           0|               0|              0|         0|         0|             0|               0|           0|             0|                0|\n",
      "|     11|American Presiden...|Comedy|Drama|Romance|1995|[Comedy, Drama, R...|  1990|[politics, presid...|          1|           1|             0|           0|            1|              0|          0|           0|           0|            0|             0|              0|            0|                0|        0|            0|            0|         0|              0|                       0|          1|          0|          0|                   0|              0|        0|          0|            0|                   0|        0|         0|           0|         0|           0|             0|              0|               0|                     0|        0|           1|         0|        0|         0|       0|              0|              0|                 0|         0|           0|        0|               0|            0|        0|               0|             0|             0|            0|              0|        0|            0|        0|            0|          0|         0|        0|            0|                0|              0|             0|         0|              0|           0|               0|         0|            0|        0|                0|         0|          0|                 0|                    0|          0|        0|         0|        0|            0|                0|          0|               0|               0|           0|         0|           0|          0|            0|         0|         0|               0|         0|           0|       0|         0|               0|                0|      0|           0|         0|          0|                0|               0|        0|                 0|            0|              0|                    0|           0|                    0|             0|               0|         0|              0|        0|             0|                0|            0|        0|        0|            0|        0|         0|             0|          0|                0|             0|          0|                     0|             0|            0|             0|              0|                    0|          0|            0|         0|          0|                   0|           0|           0|         0|          0|                  0|                        0|        0|           0|        0|           0|             0|         0|                    0|           0|        0|            0|           0|                   0|          0|            0|          0|                0|      0|      0|         0|              0|          0|                          0|            0|            0|             0|                  0|           0|          0|                 0|          0|       0|         0|           0|           0|            1|         0|          0|          0|         0|               0|          0|                0|               0|                  0|         0|                0|             0|              0|           0|          0|                 0|           0|          0|                  0|       0|             0|               0|                   0|         0|           0|         0|           0|               0|              0|         0|         0|             0|               0|           0|             0|                0|\n",
      "|     12|Dracula: Dead and...|       Comedy|Horror|1995|    [Comedy, Horror]|  1990|                  []|          0|           1|             0|           0|            0|              0|          0|           0|           1|            0|             0|              0|            0|                0|        0|            0|            0|         0|              0|                       0|          1|          0|          0|                   0|              0|        0|          0|            0|                   0|        0|         0|           0|         0|           0|             0|              0|               0|                     0|        0|           0|         0|        0|         0|       0|              0|              0|                 0|         0|           0|        0|               0|            0|        0|               0|             0|             0|            0|              0|        0|            0|        0|            0|          0|         0|        0|            0|                0|              0|             0|         0|              0|           0|               0|         0|            0|        0|                0|         0|          0|                 0|                    0|          0|        0|         0|        0|            0|                0|          0|               0|               0|           0|         0|           0|          0|            0|         0|         0|               0|         0|           0|       0|         0|               0|                0|      0|           0|         0|          0|                0|               0|        0|                 0|            0|              0|                    0|           0|                    0|             0|               0|         0|              0|        0|             0|                0|            0|        0|        0|            0|        0|         0|             0|          0|                0|             0|          0|                     0|             0|            0|             0|              0|                    0|          0|            0|         0|          0|                   0|           0|           0|         0|          0|                  0|                        0|        0|           0|        0|           0|             0|         0|                    0|           0|        0|            0|           0|                   0|          0|            0|          0|                0|      0|      0|         0|              0|          0|                          0|            0|            0|             0|                  0|           0|          0|                 0|          0|       0|         0|           0|           0|            0|         0|          0|          0|         0|               0|          0|                0|               0|                  0|         0|                0|             0|              0|           0|          0|                 0|           0|          0|                  0|       0|             0|               0|                   0|         0|           0|         0|           0|               0|              0|         0|         0|             0|               0|           0|             0|                0|\n",
      "|     13|        Balto (1995)|Adventure|Animati...|1995|[Adventure, Anima...|  1990|                  []|          0|           0|             0|           0|            0|              1|          0|           0|           0|            0|             1|              1|            0|                0|        0|            0|            0|         0|              0|                       0|          1|          0|          0|                   0|              0|        0|          0|            0|                   0|        0|         0|           0|         0|           0|             0|              0|               0|                     0|        0|           0|         0|        0|         0|       0|              0|              0|                 0|         0|           0|        0|               0|            0|        0|               0|             0|             0|            0|              0|        0|            0|        0|            0|          0|         0|        0|            0|                0|              0|             0|         0|              0|           0|               0|         0|            0|        0|                0|         0|          0|                 0|                    0|          0|        0|         0|        0|            0|                0|          0|               0|               0|           0|         0|           0|          0|            0|         0|         0|               0|         0|           0|       0|         0|               0|                0|      0|           0|         0|          0|                0|               0|        0|                 0|            0|              0|                    0|           0|                    0|             0|               0|         0|              0|        0|             0|                0|            0|        0|        0|            0|        0|         0|             0|          0|                0|             0|          0|                     0|             0|            0|             0|              0|                    0|          0|            0|         0|          0|                   0|           0|           0|         0|          0|                  0|                        0|        0|           0|        0|           0|             0|         0|                    0|           0|        0|            0|           0|                   0|          0|            0|          0|                0|      0|      0|         0|              0|          0|                          0|            0|            0|             0|                  0|           0|          0|                 0|          0|       0|         0|           0|           0|            0|         0|          0|          0|         0|               0|          0|                0|               0|                  0|         0|                0|             0|              0|           0|          0|                 0|           0|          0|                  0|       0|             0|               0|                   0|         0|           0|         0|           0|               0|              0|         0|         0|             0|               0|           0|             0|                0|\n",
      "|     14|        Nixon (1995)|               Drama|1995|             [Drama]|  1990|[politics, presid...|          1|           0|             0|           0|            0|              0|          0|           0|           0|            0|             0|              0|            0|                0|        0|            0|            0|         0|              0|                       0|          1|          0|          0|                   0|              0|        0|          0|            0|                   0|        0|         0|           0|         0|           0|             0|              0|               0|                     0|        0|           1|         0|        0|         0|       0|              0|              0|                 0|         0|           0|        0|               0|            0|        0|               0|             0|             0|            0|              0|        0|            0|        0|            0|          0|         0|        0|            0|                0|              0|             0|         0|              0|           0|               0|         0|            0|        0|                0|         0|          0|                 0|                    0|          0|        0|         0|        0|            0|                0|          0|               0|               0|           0|         0|           0|          0|            0|         0|         0|               0|         0|           0|       0|         0|               0|                0|      0|           0|         0|          0|                0|               0|        0|                 0|            0|              0|                    0|           0|                    0|             0|               0|         0|              0|        0|             0|                0|            0|        0|        0|            0|        0|         0|             0|          0|                0|             0|          0|                     0|             0|            0|             0|              0|                    0|          0|            0|         0|          0|                   0|           0|           0|         0|          0|                  0|                        0|        0|           0|        0|           0|             0|         0|                    0|           0|        0|            0|           0|                   0|          0|            0|          0|                0|      0|      0|         0|              0|          0|                          0|            0|            0|             0|                  0|           0|          0|                 0|          0|       0|         0|           0|           0|            1|         0|          0|          0|         0|               0|          0|                0|               0|                  0|         0|                0|             0|              0|           0|          0|                 0|           0|          0|                  0|       0|             0|               0|                   0|         0|           0|         0|           0|               0|              0|         0|         0|             0|               0|           0|             0|                0|\n",
      "|     15|Cutthroat Island ...|Action|Adventure|...|1995|[Action, Adventur...|  1990|                  []|          0|           0|             0|           1|            1|              1|          0|           0|           0|            0|             0|              0|            0|                0|        0|            0|            0|         0|              0|                       0|          1|          0|          0|                   0|              0|        0|          0|            0|                   0|        0|         0|           0|         0|           0|             0|              0|               0|                     0|        0|           0|         0|        0|         0|       0|              0|              0|                 0|         0|           0|        0|               0|            0|        0|               0|             0|             0|            0|              0|        0|            0|        0|            0|          0|         0|        0|            0|                0|              0|             0|         0|              0|           0|               0|         0|            0|        0|                0|         0|          0|                 0|                    0|          0|        0|         0|        0|            0|                0|          0|               0|               0|           0|         0|           0|          0|            0|         0|         0|               0|         0|           0|       0|         0|               0|                0|      0|           0|         0|          0|                0|               0|        0|                 0|            0|              0|                    0|           0|                    0|             0|               0|         0|              0|        0|             0|                0|            0|        0|        0|            0|        0|         0|             0|          0|                0|             0|          0|                     0|             0|            0|             0|              0|                    0|          0|            0|         0|          0|                   0|           0|           0|         0|          0|                  0|                        0|        0|           0|        0|           0|             0|         0|                    0|           0|        0|            0|           0|                   0|          0|            0|          0|                0|      0|      0|         0|              0|          0|                          0|            0|            0|             0|                  0|           0|          0|                 0|          0|       0|         0|           0|           0|            0|         0|          0|          0|         0|               0|          0|                0|               0|                  0|         0|                0|             0|              0|           0|          0|                 0|           0|          0|                  0|       0|             0|               0|                   0|         0|           0|         0|           0|               0|              0|         0|         0|             0|               0|           0|             0|                0|\n",
      "|     16|       Casino (1995)|         Crime|Drama|1995|      [Crime, Drama]|  1990|             [mafia]|          1|           0|             0|           0|            0|              0|          1|           0|           0|            0|             0|              0|            0|                0|        0|            0|            0|         0|              0|                       0|          1|          0|          0|                   0|              0|        0|          0|            0|                   0|        0|         0|           0|         0|           0|             0|              0|               0|                     0|        0|           0|         0|        0|         0|       0|              0|              0|                 0|         0|           0|        0|               0|            0|        1|               0|             0|             0|            0|              0|        0|            0|        0|            0|          0|         0|        0|            0|                0|              0|             0|         0|              0|           0|               0|         0|            0|        0|                0|         0|          0|                 0|                    0|          0|        0|         0|        0|            0|                0|          0|               0|               0|           0|         0|           0|          0|            0|         0|         0|               0|         0|           0|       0|         0|               0|                0|      0|           0|         0|          0|                0|               0|        0|                 0|            0|              0|                    0|           0|                    0|             0|               0|         0|              0|        0|             0|                0|            0|        0|        0|            0|        0|         0|             0|          0|                0|             0|          0|                     0|             0|            0|             0|              0|                    0|          0|            0|         0|          0|                   0|           0|           0|         0|          0|                  0|                        0|        0|           0|        0|           0|             0|         0|                    0|           0|        0|            0|           0|                   0|          0|            0|          0|                0|      0|      0|         0|              0|          0|                          0|            0|            0|             0|                  0|           0|          0|                 0|          0|       0|         0|           0|           0|            0|         0|          0|          0|         0|               0|          0|                0|               0|                  0|         0|                0|             0|              0|           0|          0|                 0|           0|          0|                  0|       0|             0|               0|                   0|         0|           0|         0|           0|               0|              0|         0|         0|             0|               0|           0|             0|                0|\n",
      "|     17|Sense and Sensibi...|       Drama|Romance|1995|    [Drama, Romance]|  1990|       [jane austen]|          1|           0|             0|           0|            1|              0|          0|           0|           0|            0|             0|              0|            0|                0|        0|            0|            0|         0|              0|                       0|          1|          0|          0|                   0|              0|        0|          0|            0|                   0|        0|         0|           0|         0|           0|             0|              0|               0|                     0|        0|           0|         0|        0|         0|       0|              0|              0|                 0|         0|           0|        0|               0|            0|        0|               0|             0|             0|            0|              0|        0|            0|        0|            0|          0|         0|        0|            0|                0|              0|             0|         0|              0|           0|               0|         0|            0|        0|                0|         0|          0|                 0|                    0|          0|        0|         0|        0|            0|                0|          0|               0|               0|           0|         0|           0|          0|            0|         0|         0|               0|         0|           0|       0|         0|               0|                0|      0|           0|         0|          0|                0|               0|        0|                 0|            0|              0|                    0|           0|                    0|             0|               0|         0|              0|        0|             0|                0|            0|        0|        0|            0|        0|         0|             0|          0|                0|             0|          0|                     0|             0|            0|             0|              0|                    0|          0|            0|         0|          0|                   0|           0|           0|         0|          0|                  0|                        0|        0|           0|        0|           0|             0|         0|                    0|           0|        0|            0|           0|                   0|          0|            0|          0|                0|      0|      0|         0|              0|          0|                          0|            0|            0|             0|                  0|           0|          0|                 0|          0|       0|         0|           0|           0|            0|         0|          0|          0|         0|               0|          0|                0|               0|                  0|         0|                0|             0|              0|           0|          0|                 0|           0|          0|                  0|       0|             0|               0|                   0|         0|           0|         0|           0|               0|              0|         0|         0|             0|               0|           0|             0|                0|\n",
      "|     18|   Four Rooms (1995)|              Comedy|1995|            [Comedy]|  1990|                  []|          0|           1|             0|           0|            0|              0|          0|           0|           0|            0|             0|              0|            0|                0|        0|            0|            0|         0|              0|                       0|          1|          0|          0|                   0|              0|        0|          0|            0|                   0|        0|         0|           0|         0|           0|             0|              0|               0|                     0|        0|           0|         0|        0|         0|       0|              0|              0|                 0|         0|           0|        0|               0|            0|        0|               0|             0|             0|            0|              0|        0|            0|        0|            0|          0|         0|        0|            0|                0|              0|             0|         0|              0|           0|               0|         0|            0|        0|                0|         0|          0|                 0|                    0|          0|        0|         0|        0|            0|                0|          0|               0|               0|           0|         0|           0|          0|            0|         0|         0|               0|         0|           0|       0|         0|               0|                0|      0|           0|         0|          0|                0|               0|        0|                 0|            0|              0|                    0|           0|                    0|             0|               0|         0|              0|        0|             0|                0|            0|        0|        0|            0|        0|         0|             0|          0|                0|             0|          0|                     0|             0|            0|             0|              0|                    0|          0|            0|         0|          0|                   0|           0|           0|         0|          0|                  0|                        0|        0|           0|        0|           0|             0|         0|                    0|           0|        0|            0|           0|                   0|          0|            0|          0|                0|      0|      0|         0|              0|          0|                          0|            0|            0|             0|                  0|           0|          0|                 0|          0|       0|         0|           0|           0|            0|         0|          0|          0|         0|               0|          0|                0|               0|                  0|         0|                0|             0|              0|           0|          0|                 0|           0|          0|                  0|       0|             0|               0|                   0|         0|           0|         0|           0|               0|              0|         0|         0|             0|               0|           0|             0|                0|\n",
      "|     19|Ace Ventura: When...|              Comedy|1995|            [Comedy]|  1990|                  []|          0|           1|             0|           0|            0|              0|          0|           0|           0|            0|             0|              0|            0|                0|        0|            0|            0|         0|              0|                       0|          1|          0|          0|                   0|              0|        0|          0|            0|                   0|        0|         0|           0|         0|           0|             0|              0|               0|                     0|        0|           0|         0|        0|         0|       0|              0|              0|                 0|         0|           0|        0|               0|            0|        0|               0|             0|             0|            0|              0|        0|            0|        0|            0|          0|         0|        0|            0|                0|              0|             0|         0|              0|           0|               0|         0|            0|        0|                0|         0|          0|                 0|                    0|          0|        0|         0|        0|            0|                0|          0|               0|               0|           0|         0|           0|          0|            0|         0|         0|               0|         0|           0|       0|         0|               0|                0|      0|           0|         0|          0|                0|               0|        0|                 0|            0|              0|                    0|           0|                    0|             0|               0|         0|              0|        0|             0|                0|            0|        0|        0|            0|        0|         0|             0|          0|                0|             0|          0|                     0|             0|            0|             0|              0|                    0|          0|            0|         0|          0|                   0|           0|           0|         0|          0|                  0|                        0|        0|           0|        0|           0|             0|         0|                    0|           0|        0|            0|           0|                   0|          0|            0|          0|                0|      0|      0|         0|              0|          0|                          0|            0|            0|             0|                  0|           0|          0|                 0|          0|       0|         0|           0|           0|            0|         0|          0|          0|         0|               0|          0|                0|               0|                  0|         0|                0|             0|              0|           0|          0|                 0|           0|          0|                  0|       0|             0|               0|                   0|         0|           0|         0|           0|               0|              0|         0|         0|             0|               0|           0|             0|                0|\n",
      "|     20|  Money Train (1995)|Action|Comedy|Cri...|1995|[Action, Comedy, ...|  1990|                  []|          1|           1|             1|           1|            0|              0|          1|           0|           0|            0|             0|              0|            0|                0|        0|            0|            0|         0|              0|                       0|          1|          0|          0|                   0|              0|        0|          0|            0|                   0|        0|         0|           0|         0|           0|             0|              0|               0|                     0|        0|           0|         0|        0|         0|       0|              0|              0|                 0|         0|           0|        0|               0|            0|        0|               0|             0|             0|            0|              0|        0|            0|        0|            0|          0|         0|        0|            0|                0|              0|             0|         0|              0|           0|               0|         0|            0|        0|                0|         0|          0|                 0|                    0|          0|        0|         0|        0|            0|                0|          0|               0|               0|           0|         0|           0|          0|            0|         0|         0|               0|         0|           0|       0|         0|               0|                0|      0|           0|         0|          0|                0|               0|        0|                 0|            0|              0|                    0|           0|                    0|             0|               0|         0|              0|        0|             0|                0|            0|        0|        0|            0|        0|         0|             0|          0|                0|             0|          0|                     0|             0|            0|             0|              0|                    0|          0|            0|         0|          0|                   0|           0|           0|         0|          0|                  0|                        0|        0|           0|        0|           0|             0|         0|                    0|           0|        0|            0|           0|                   0|          0|            0|          0|                0|      0|      0|         0|              0|          0|                          0|            0|            0|             0|                  0|           0|          0|                 0|          0|       0|         0|           0|           0|            0|         0|          0|          0|         0|               0|          0|                0|               0|                  0|         0|                0|             0|              0|           0|          0|                 0|           0|          0|                  0|       0|             0|               0|                   0|         0|           0|         0|           0|               0|              0|         0|         0|             0|               0|           0|             0|                0|\n",
      "+-------+--------------------+--------------------+----+--------------------+------+--------------------+-----------+------------+--------------+------------+-------------+---------------+-----------+------------+------------+-------------+--------------+---------------+-------------+-----------------+---------+-------------+-------------+----------+---------------+------------------------+-----------+-----------+-----------+--------------------+---------------+---------+-----------+-------------+--------------------+---------+----------+------------+----------+------------+--------------+---------------+----------------+----------------------+---------+------------+----------+---------+----------+--------+---------------+---------------+------------------+----------+------------+---------+----------------+-------------+---------+----------------+--------------+--------------+-------------+---------------+---------+-------------+---------+-------------+-----------+----------+---------+-------------+-----------------+---------------+--------------+----------+---------------+------------+----------------+----------+-------------+---------+-----------------+----------+-----------+------------------+---------------------+-----------+---------+----------+---------+-------------+-----------------+-----------+----------------+----------------+------------+----------+------------+-----------+-------------+----------+----------+----------------+----------+------------+--------+----------+----------------+-----------------+-------+------------+----------+-----------+-----------------+----------------+---------+------------------+-------------+---------------+---------------------+------------+---------------------+--------------+----------------+----------+---------------+---------+--------------+-----------------+-------------+---------+---------+-------------+---------+----------+--------------+-----------+-----------------+--------------+-----------+----------------------+--------------+-------------+--------------+---------------+---------------------+-----------+-------------+----------+-----------+--------------------+------------+------------+----------+-----------+-------------------+-------------------------+---------+------------+---------+------------+--------------+----------+---------------------+------------+---------+-------------+------------+--------------------+-----------+-------------+-----------+-----------------+-------+-------+----------+---------------+-----------+---------------------------+-------------+-------------+--------------+-------------------+------------+-----------+------------------+-----------+--------+----------+------------+------------+-------------+----------+-----------+-----------+----------+----------------+-----------+-----------------+----------------+-------------------+----------+-----------------+--------------+---------------+------------+-----------+------------------+------------+-----------+-------------------+--------+--------------+----------------+--------------------+----------+------------+----------+------------+----------------+---------------+----------+----------+--------------+----------------+------------+--------------+-----------------+\n",
      "only showing top 20 rows\n",
      "\n"
     ]
    }
   ],
   "source": [
    "movies_features.show()"
   ]
  },
  {
   "cell_type": "code",
   "execution_count": 19,
   "metadata": {},
   "outputs": [],
   "source": [
    "# Create list of all feature columns\n",
    "feature_cols = []\n",
    "feature_cols.extend([f\"genre_{genre}\" for genre in top_genres])\n",
    "feature_cols.extend([f\"decade_{decade}\" for decade in decades])\n",
    "feature_cols.extend([f\"tag_{tag}\" for tag in top_tags])\n",
    "\n",
    "# Create vector assembler\n",
    "assembler = VectorAssembler(inputCols=feature_cols, outputCol=\"features\")\n",
    "movie_vectors = assembler.transform(movies_features)"
   ]
  },
  {
   "cell_type": "code",
   "execution_count": 20,
   "metadata": {},
   "outputs": [],
   "source": [
    "# Compute similarity matrix\n",
    "\n",
    "# Collect the movie data and feature vectors\n",
    "movie_data = movie_vectors.select(\"movieId\", \"title\", \"features\").collect()\n",
    "\n",
    "# Create a dictionary mapping movie IDs to their indices in the list\n",
    "movie_id_to_idx = {movie.movieId: i for i, movie in enumerate(movie_data)}\n",
    "movie_idx_to_id = {i: movie.movieId for i, movie in enumerate(movie_data)}\n",
    "movie_id_to_title = {movie.movieId: movie.title for movie in movie_data}\n",
    "\n",
    "# Convert feature vectors to numpy arrays\n",
    "feature_matrix = np.array([movie.features.toArray() for movie in movie_data])\n",
    "\n",
    "# Compute cosine similarity\n",
    "similarity_matrix = cosine_similarity(feature_matrix)"
   ]
  },
  {
   "cell_type": "code",
   "execution_count": null,
   "metadata": {},
   "outputs": [],
   "source": [
    "# Define function to find similar movies\n",
    "def find_similar_movies(movie_title, top_n=5):\n",
    "\n",
    "    # Find the movie ID for the given title\n",
    "    title_lower = movie_title.lower()\n",
    "    \n",
    "    \n",
    "    matching_movies = [\n",
    "        (id, title) for id, title in movie_id_to_title.items() \n",
    "        if title_lower in title.lower()\n",
    "    ]\n",
    "    \n",
    "    if not matching_movies:\n",
    "        print(f\"Movie '{movie_title}' not found.\")\n",
    "        return []\n",
    "    \n",
    "    \n",
    "    movie_id, movie_title = matching_movies[0]\n",
    "    \n",
    "    # Get the movie's index in our matrix\n",
    "    idx = movie_id_to_idx[movie_id]\n",
    "    \n",
    "    # Get similarity scores for this movie with all others\n",
    "    sim_scores = list(enumerate(similarity_matrix[idx]))\n",
    "    \n",
    "    # Sort by similarity score (descending)\n",
    "    sim_scores = sorted(sim_scores, key=lambda x: x[1], reverse=True)\n",
    "    \n",
    "    # Get top N most similar movies (excluding itself)\n",
    "    sim_scores = sim_scores[1:top_n+1]\n",
    "    \n",
    "    # Get the movie IDs and scores\n",
    "    similar_movie_indices = [i for i, score in sim_scores]\n",
    "    similar_movie_scores = [score for i, score in sim_scores]\n",
    "    \n",
    "    # Get the movie IDs and titles\n",
    "    similar_movie_ids = [movie_idx_to_id[idx] for idx in similar_movie_indices]\n",
    "    similar_movie_titles = [movie_id_to_title[id] for id in similar_movie_ids]\n",
    "    \n",
    "    \n",
    "    results = []\n",
    "    for i in range(len(similar_movie_titles)):\n",
    "        results.append({\n",
    "            \"title\": similar_movie_titles[i],\n",
    "            \"movieId\": similar_movie_ids[i],\n",
    "            \"similarity_score\": similar_movie_scores[i]\n",
    "        })\n",
    "    \n",
    "    return results"
   ]
  },
  {
   "cell_type": "code",
   "execution_count": 33,
   "metadata": {},
   "outputs": [
    {
     "name": "stdout",
     "output_type": "stream",
     "text": [
      "1. Goodfellas (1990) (ID: 1213) - Similarity: 1.0000\n",
      "2. Donnie Brasco (1997) (ID: 1466) - Similarity: 1.0000\n",
      "3. Carlito's Way (1993) (ID: 431) - Similarity: 0.8944\n",
      "4. Shanghai Triad (Yao a yao yao dao waipo qiao) (1995) (ID: 30) - Similarity: 0.8660\n",
      "5. Hate (Haine, La) (1995) (ID: 97) - Similarity: 0.8660\n"
     ]
    }
   ],
   "source": [
    "# Example usage\n",
    "similar_movies = find_similar_movies(\"Casino (1995)\", top_n=5)\n",
    "for i, movie in enumerate(similar_movies, 1):\n",
    "    print(f\"{i}. {movie['title']} (ID: {movie['movieId']}) - Similarity: {movie['similarity_score']:.4f}\")"
   ]
  },
  {
   "cell_type": "code",
   "execution_count": null,
   "metadata": {},
   "outputs": [],
   "source": []
  }
 ],
 "metadata": {
  "kernelspec": {
   "display_name": "base",
   "language": "python",
   "name": "python3"
  },
  "language_info": {
   "codemirror_mode": {
    "name": "ipython",
    "version": 3
   },
   "file_extension": ".py",
   "mimetype": "text/x-python",
   "name": "python",
   "nbconvert_exporter": "python",
   "pygments_lexer": "ipython3",
   "version": "3.12.7"
  }
 },
 "nbformat": 4,
 "nbformat_minor": 2
}
